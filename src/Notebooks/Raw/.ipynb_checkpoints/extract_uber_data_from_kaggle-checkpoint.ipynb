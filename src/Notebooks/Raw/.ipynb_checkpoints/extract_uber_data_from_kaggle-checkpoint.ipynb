{
 "cells": [
  {
   "cell_type": "markdown",
   "id": "22adab80-37be-4565-a1c9-5df475bf395b",
   "metadata": {},
   "source": [
    "# Kaggle"
   ]
  },
  {
   "cell_type": "code",
   "execution_count": 1,
   "id": "f3198ed5-b813-4088-8593-56ee639a3fa5",
   "metadata": {},
   "outputs": [
    {
     "name": "stdout",
     "output_type": "stream",
     "text": [
      "Warning: Your Kaggle API key is readable by other users on this system! To fix this, you can run 'chmod 600 /user/.kaggle/kaggle.json'\n"
     ]
    }
   ],
   "source": [
    "from datetime import datetime\n",
    "import os\n",
    "from kaggle.api.kaggle_api_extended import KaggleApi\n",
    "import time \n"
   ]
  },
  {
   "cell_type": "code",
   "execution_count": 2,
   "id": "14c7f93d-7b8d-43f6-8e6c-595ddbf4c298",
   "metadata": {},
   "outputs": [],
   "source": [
    "def LeituraAPI(folder_name: str, source: str, bucket_name: str = \"raw\"):\n",
    "    start = time.time()\n",
    "    try:\n",
    "        # 📌 Autenticação Kaggle\n",
    "        os.environ['KAGGLE_CONFIG_DIR'] = '/home/user/.kaggle'\n",
    "        api = KaggleApi()\n",
    "        api.authenticate()\n",
    "        print(\"✅ Autenticação Kaggle bem-sucedida\")\n",
    "\n",
    "        # 🗂️ Diretório local de destino com versionamento por mês/ano\n",
    "        now_str = f\"{datetime.now().month}_{datetime.now().year}\"\n",
    "        path = f\"/home/user/datasets/{folder_name}/{now_str}\"\n",
    "        print(f\"📁 Diretório local de destino: {path}\")\n",
    "        os.makedirs(path, exist_ok=True)\n",
    "\n",
    "        # 📥 Download do dataset do Kaggle e extração\n",
    "        print(f\"⬇️ Baixando dataset '{source}' para '{path}'...\")\n",
    "        api.dataset_download_files(source, path=path, unzip=True)\n",
    "\n",
    "        # 📂 Lista os arquivos baixados\n",
    "        arquivos = os.listdir(path)\n",
    "        print(f\"📄 Arquivos salvos localmente:\")\n",
    "        for arq in arquivos:\n",
    "            print(f\" - {arq}\")\n",
    "        print(f\"\\nTotal: {len(arquivos)} arquivo(s)\\n\")\n",
    "        print(f\"💾 Salvo localmente em: {path}\")\n",
    "        end = time.time()\n",
    "        print(f\"⏱️ Processo de acesso a API e salvamento dos dados em diretório local levou {end - start:.2f} segundos.\")\n",
    "    except Exception as e:\n",
    "        print(f\"❌ Erro: {e}\")\n",
    "        import traceback\n",
    "        traceback.print_exc()\n"
   ]
  },
  {
   "cell_type": "code",
   "execution_count": 3,
   "id": "400f12b4-c65d-49a7-bb6f-9f544a656c9c",
   "metadata": {},
   "outputs": [
    {
     "name": "stdout",
     "output_type": "stream",
     "text": [
      "Warning: Your Kaggle API key is readable by other users on this system! To fix this, you can run 'chmod 600 /user/.kaggle/kaggle.json'\n",
      "✅ Autenticação Kaggle bem-sucedida\n",
      "📁 Diretório local de destino: /home/user/datasets/uber_dataset/9_2025\n",
      "⬇️ Baixando dataset 'fivethirtyeight/uber-pickups-in-new-york-city' para '/home/user/datasets/uber_dataset/9_2025'...\n",
      "Dataset URL: https://www.kaggle.com/datasets/fivethirtyeight/uber-pickups-in-new-york-city\n",
      "📄 Arquivos salvos localmente:\n",
      " - other-American_B01362.csv\n",
      " - other-Carmel_B00256.csv\n",
      " - other-Dial7_B00887.csv\n",
      " - other-Diplo_B01196.csv\n",
      " - other-Federal_02216.csv\n",
      " - other-FHV-services_jan-aug-2015.csv\n",
      " - other-Firstclass_B01536.csv\n",
      " - other-Highclass_B01717.csv\n",
      " - other-Lyft_B02510.csv\n",
      " - other-Prestige_B01338.csv\n",
      " - other-Skyline_B00111.csv\n",
      " - Uber-Jan-Feb-FOIL.csv\n",
      " - uber-raw-data-apr14.csv\n",
      " - uber-raw-data-aug14.csv\n",
      " - uber-raw-data-janjune-15.csv\n",
      " - uber-raw-data-jul14.csv\n",
      " - uber-raw-data-jun14.csv\n",
      " - uber-raw-data-may14.csv\n",
      " - uber-raw-data-sep14.csv\n",
      "\n",
      "Total: 19 arquivo(s)\n",
      "\n",
      "💾 Salvo localmente em: /home/user/datasets/uber_dataset/9_2025\n",
      "⏱️ Leitura + count levou 87.29 segundos.\n"
     ]
    }
   ],
   "source": [
    "folder_name = 'uber_dataset'\n",
    "source = 'fivethirtyeight/uber-pickups-in-new-york-city'\n",
    "# bucket_name = 'raw'\n",
    "LeituraAPI(folder_name=folder_name, source=source)"
   ]
  }
 ],
 "metadata": {
  "kernelspec": {
   "display_name": "Python 3 (ipykernel)",
   "language": "python",
   "name": "python3"
  },
  "language_info": {
   "codemirror_mode": {
    "name": "ipython",
    "version": 3
   },
   "file_extension": ".py",
   "mimetype": "text/x-python",
   "name": "python",
   "nbconvert_exporter": "python",
   "pygments_lexer": "ipython3",
   "version": "3.10.8"
  }
 },
 "nbformat": 4,
 "nbformat_minor": 5
}
