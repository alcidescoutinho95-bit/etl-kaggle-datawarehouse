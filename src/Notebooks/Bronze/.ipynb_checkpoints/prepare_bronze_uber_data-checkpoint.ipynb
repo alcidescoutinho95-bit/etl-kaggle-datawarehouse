{
 "cells": [
  {
   "cell_type": "markdown",
   "id": "ca5b82d3-0832-4920-96e7-94de42385278",
   "metadata": {},
   "source": [
    "# Import libraries and create spark session"
   ]
  },
  {
   "cell_type": "code",
   "execution_count": 1,
   "id": "b41348cd-b062-446d-8c0a-b4bb117eaf29",
   "metadata": {},
   "outputs": [],
   "source": [
    "# Adiciona a pasta raiz do projeto ao sys.path\n",
    "import sys\n",
    "import os\n",
    "sys.path.append(os.path.abspath(os.path.join(\"..\")))\n",
    "\n",
    "## Importar a sessão spark criada no spark_session.py\n",
    "from spark_session import spark\n",
    "from datetime import datetime\n",
    "from minio import Minio\n",
    "import tempfile\n",
    "import time"
   ]
  },
  {
   "cell_type": "code",
   "execution_count": 2,
   "id": "a043f0ca-44a0-42bf-8bd6-c438c6548db5",
   "metadata": {},
   "outputs": [],
   "source": [
    "def DataFrameGenerator(folder_name: str, bucket: str, project_name: str):\n",
    "    start = time.time()\n",
    "    try:\n",
    "        path = f'/home/user/datasets/{folder_name}/{datetime.now().month}_{datetime.now().year}'\n",
    "        files = os.listdir(path)\n",
    "        print(f\"📁 Diretório local de busca: {path}\")\n",
    "        files_return = [file for file in files if file.endswith('14.csv')]\n",
    "        print(f\"📄 Um total de {len(files_return)} arquivos foram encontrados para os filtros aplicados.\")\n",
    "\n",
    "\n",
    "        # Save delta section \n",
    "        print(f\"📥 Iniciando processo de salvar dados em Delta.\")\n",
    "        delta_save_path = f\"s3a://{bucket}/{project_name}/{datetime.now().month}_{datetime.now().year}\"\n",
    "        for csv_file in files_return:\n",
    "            print(f\"⬆️ Enviando {csv_file} no formato Delta para MinIO...\")\n",
    "            path_csv = f\"{path}/{csv_file}\"\n",
    "            folder_nome_for_csv = csv_file.split('-')[-1].replace('14.csv','')\n",
    "            delta_save_path = f\"s3a://{bucket}/{project_name}/{datetime.now().month}_{datetime.now().year}/{folder_nome_for_csv}\"\n",
    "            spark.read.csv(path_csv,header=True,inferSchema=True)\\\n",
    "            .write.format(\"parquet\").mode(\"append\").save(delta_save_path)\n",
    "            \n",
    "        print(f\"✅💾 Arquivos salvos no MinIO\")\n",
    "        end = time.time()\n",
    "        print(f\"⏱️ Processou levou um total de {end - start:.2f} segundos.\")\n",
    "        \n",
    "    except Exception as e:\n",
    "        print(f\"❌ Erro: {e}\")\n",
    "        import traceback\n",
    "        traceback.print_exc()"
   ]
  },
  {
   "cell_type": "code",
   "execution_count": 3,
   "id": "684a672e-6fcd-4713-a6e4-0c728bd5dab9",
   "metadata": {},
   "outputs": [
    {
     "name": "stdout",
     "output_type": "stream",
     "text": [
      "📁 Diretório local de busca: /home/user/datasets/uber_dataset/9_2025\n",
      "📄 Um total de 6 arquivos foram encontrados para os filtros aplicados.\n",
      "📥 Iniciando processo de salvar dados em Delta.\n",
      "⬆️ Enviando uber-raw-data-apr14.csv no formato Delta para MinIO...\n",
      "⬆️ Enviando uber-raw-data-aug14.csv no formato Delta para MinIO...\n",
      "⬆️ Enviando uber-raw-data-jul14.csv no formato Delta para MinIO...\n",
      "⬆️ Enviando uber-raw-data-jun14.csv no formato Delta para MinIO...\n",
      "⬆️ Enviando uber-raw-data-may14.csv no formato Delta para MinIO...\n",
      "⬆️ Enviando uber-raw-data-sep14.csv no formato Delta para MinIO...\n",
      "✅💾 Arquivos salvos no MinIO\n",
      "⏱️ Processou levou um total de 22.30 segundos.\n"
     ]
    }
   ],
   "source": [
    "folder_name = 'uber_dataset'\n",
    "DataFrameGenerator(folder_name, bucket='bronze', project_name='uber_dataset')"
   ]
  }
 ],
 "metadata": {
  "kernelspec": {
   "display_name": "Python 3 (ipykernel)",
   "language": "python",
   "name": "python3"
  },
  "language_info": {
   "codemirror_mode": {
    "name": "ipython",
    "version": 3
   },
   "file_extension": ".py",
   "mimetype": "text/x-python",
   "name": "python",
   "nbconvert_exporter": "python",
   "pygments_lexer": "ipython3",
   "version": "3.10.8"
  }
 },
 "nbformat": 4,
 "nbformat_minor": 5
}
