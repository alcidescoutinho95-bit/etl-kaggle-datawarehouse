{
 "cells": [
  {
   "cell_type": "markdown",
   "id": "4ed2e766-ae21-4f75-8c30-566384a4b5bc",
   "metadata": {
    "jp-MarkdownHeadingCollapsed": true,
    "tags": []
   },
   "source": [
    "# Old"
   ]
  },
  {
   "cell_type": "code",
   "execution_count": 1,
   "id": "e761aef7-90d2-4119-b32a-8c6027fec813",
   "metadata": {},
   "outputs": [],
   "source": [
    "from pyspark import SparkConf\n",
    "from pyspark.sql import SparkSession\n",
    "import pyspark.sql.functions as f\n",
    "import requests\n",
    "import pandas as pd\n",
    "import os\n",
    "# --------------------------\n",
    "# Configuração Spark\n",
    "# --------------------------\n",
    "conf = SparkConf()\n",
    "\n",
    "conf.setAppName(\"Sample write Delta table\")\n",
    "\n",
    "# Conexão com o MinIO (S3 compatível)\n",
    "conf.set(\"spark.hadoop.fs.s3a.endpoint\", \"http://minio:9000\")\n",
    "conf.set(\"spark.hadoop.fs.s3a.access.key\", \"admin\")\n",
    "conf.set(\"spark.hadoop.fs.s3a.secret.key\", \"nova_senha\")\n",
    "conf.set(\"spark.hadoop.fs.s3a.path.style.access\", True)\n",
    "conf.set(\"spark.hadoop.fs.s3a.impl\", \"org.apache.hadoop.fs.s3a.S3AFileSystem\")\n",
    "conf.set(\"spark.hadoop.fs.s3a.aws.credentials.provider\", \"org.apache.hadoop.fs.s3a.SimpleAWSCredentialsProvider\")\n",
    "\n",
    "# Delta Lake\n",
    "conf.set(\"spark.sql.extensions\", \"io.delta.sql.DeltaSparkSessionExtension\")\n",
    "conf.set(\"spark.sql.catalog.spark_catalog\", \"org.apache.spark.sql.delta.catalog.DeltaCatalog\")\n",
    "\n",
    "# Hive Metastore (se você tiver o serviço metastore no seu docker-compose)\n",
    "conf.set(\"hive.metastore.uris\", \"thrift://metastore:9083\")\n",
    "\n",
    "# Define o FS padrão como local (evita conflitos)\n",
    "conf.set(\"spark.hadoop.fs.defaultFS\", \"file:///\")\n",
    "\n",
    "# --------------------------\n",
    "# Cria a SparkSession\n",
    "# --------------------------\n",
    "spark = (\n",
    "    SparkSession.builder\n",
    "    .config(conf=conf)\n",
    "    .master(\"spark://spark-master:7077\")   # descomente se quiser usar o cluster\n",
    "    .enableHiveSupport()\n",
    "    .getOrCreate()\n",
    ")"
   ]
  },
  {
   "cell_type": "code",
   "execution_count": 4,
   "id": "2fda17ad-7ddb-48e8-b7d8-68804dbb5b06",
   "metadata": {},
   "outputs": [],
   "source": [
    "country = 'BR'\n",
    "code =  \"NY.GDP.MKTP.CD\""
   ]
  },
  {
   "cell_type": "code",
   "execution_count": 6,
   "id": "92a78919-f16a-4a5b-bb2b-e1e2036df6a3",
   "metadata": {},
   "outputs": [],
   "source": [
    "url = f\"http://api.worldbank.org/v2/country/{country}/indicator/{code}?format=json&per_page=500\"\n",
    "r = requests.get(url).json()"
   ]
  },
  {
   "cell_type": "code",
   "execution_count": null,
   "id": "39dc50e7-7287-44cd-b74c-a3e527845d52",
   "metadata": {},
   "outputs": [],
   "source": []
  },
  {
   "cell_type": "code",
   "execution_count": 12,
   "id": "6c2a389c-1962-4654-a6c9-dbf372a144c2",
   "metadata": {},
   "outputs": [],
   "source": [
    "year=2024\n",
    "month = 10\n",
    "\n",
    "url  = f\"https://api.nytimes.com/svc/archive/v1/{year}/{month}.json\""
   ]
  },
  {
   "cell_type": "code",
   "execution_count": 13,
   "id": "f3485d9c-2f04-4ec2-92f1-e20891873c66",
   "metadata": {},
   "outputs": [
    {
     "data": {
      "text/plain": [
       "<Response [401]>"
      ]
     },
     "execution_count": 13,
     "metadata": {},
     "output_type": "execute_result"
    }
   ],
   "source": [
    "requests.get(url)"
   ]
  },
  {
   "cell_type": "code",
   "execution_count": 15,
   "id": "4f3b26ad-73d2-4a68-a188-cf9eeb022db0",
   "metadata": {},
   "outputs": [],
   "source": [
    "url = \"https://brasil.io/api/v1/dataset/gastos-deputados/cota_parlamentar/data/\""
   ]
  },
  {
   "cell_type": "code",
   "execution_count": null,
   "id": "2724bda2-770e-49d5-9ec0-64897d36db32",
   "metadata": {},
   "outputs": [],
   "source": [
    "TOKEN = '24f7d4a1052353cc70c12d274b14fb826ad63846'\n",
    "url = \"https://brasil.io/api/v1/dataset/gastos-deputados/cota_parlamentar/data/\"\n",
    "headers = {\"Authorization\": f\"Token {TOKEN}\"}\n",
    "\n",
    "response = requests.get(url, headers=headers)\n",
    "\n",
    "print(response.status_code)\n",
    "print(response.json())"
   ]
  },
  {
   "cell_type": "code",
   "execution_count": null,
   "id": "cb9c5cd0-9319-4a77-94ae-928009b3e850",
   "metadata": {},
   "outputs": [],
   "source": []
  },
  {
   "cell_type": "code",
   "execution_count": 23,
   "id": "0c54caae-b31f-473d-8f67-494837cd936c",
   "metadata": {},
   "outputs": [
    {
     "ename": "NameError",
     "evalue": "name 'os' is not defined",
     "output_type": "error",
     "traceback": [
      "\u001b[0;31m---------------------------------------------------------------------------\u001b[0m",
      "\u001b[0;31mNameError\u001b[0m                                 Traceback (most recent call last)",
      "Cell \u001b[0;32mIn[23], line 1\u001b[0m\n\u001b[0;32m----> 1\u001b[0m TOKEN \u001b[38;5;241m=\u001b[39m \u001b[43mos\u001b[49m\u001b[38;5;241m.\u001b[39mgetenv(\u001b[38;5;124m\"\u001b[39m\u001b[38;5;124mBRASIL_IO_TOKEN\u001b[39m\u001b[38;5;124m\"\u001b[39m)\n",
      "\u001b[0;31mNameError\u001b[0m: name 'os' is not defined"
     ]
    }
   ],
   "source": [
    "TOKEN = os.getenv(\"BRASIL_IO_TOKEN\")"
   ]
  },
  {
   "cell_type": "markdown",
   "id": "22adab80-37be-4565-a1c9-5df475bf395b",
   "metadata": {},
   "source": [
    "# Kaggle"
   ]
  },
  {
   "cell_type": "code",
   "execution_count": 1,
   "id": "551ca31f-06bd-44bf-81cb-5840edd47c84",
   "metadata": {},
   "outputs": [
    {
     "name": "stdout",
     "output_type": "stream",
     "text": [
      "Collecting kaggle\n",
      "  Downloading kaggle-1.7.4.5-py3-none-any.whl (181 kB)\n",
      "\u001b[2K     \u001b[90m━━━━━━━━━━━━━━━━━━━━━━━━━━━━━━━━━━━━━━━\u001b[0m \u001b[32m181.2/181.2 kB\u001b[0m \u001b[31m1.2 MB/s\u001b[0m eta \u001b[36m0:00:00\u001b[0ma \u001b[36m0:00:01\u001b[0m\n",
      "\u001b[?25hRequirement already satisfied: protobuf in /opt/conda/lib/python3.10/site-packages (from kaggle) (4.21.12)\n",
      "Requirement already satisfied: setuptools>=21.0.0 in /opt/conda/lib/python3.10/site-packages (from kaggle) (65.6.3)\n",
      "Collecting text-unidecode\n",
      "  Downloading text_unidecode-1.3-py2.py3-none-any.whl (78 kB)\n",
      "\u001b[2K     \u001b[90m━━━━━━━━━━━━━━━━━━━━━━━━━━━━━━━━━━━━━━━━\u001b[0m \u001b[32m78.2/78.2 kB\u001b[0m \u001b[31m3.2 MB/s\u001b[0m eta \u001b[36m0:00:00\u001b[0m\n",
      "\u001b[?25hRequirement already satisfied: tqdm in /opt/conda/lib/python3.10/site-packages (from kaggle) (4.64.1)\n",
      "Collecting python-slugify\n",
      "  Downloading python_slugify-8.0.4-py2.py3-none-any.whl (10 kB)\n",
      "Requirement already satisfied: charset-normalizer in /opt/conda/lib/python3.10/site-packages (from kaggle) (2.1.1)\n",
      "Requirement already satisfied: python-dateutil>=2.5.3 in /opt/conda/lib/python3.10/site-packages (from kaggle) (2.8.2)\n",
      "Requirement already satisfied: urllib3>=1.15.1 in /opt/conda/lib/python3.10/site-packages (from kaggle) (1.26.13)\n",
      "Requirement already satisfied: bleach in /opt/conda/lib/python3.10/site-packages (from kaggle) (5.0.1)\n",
      "Requirement already satisfied: idna in /opt/conda/lib/python3.10/site-packages (from kaggle) (3.4)\n",
      "Requirement already satisfied: requests in /opt/conda/lib/python3.10/site-packages (from kaggle) (2.28.1)\n",
      "Requirement already satisfied: certifi>=14.05.14 in /opt/conda/lib/python3.10/site-packages (from kaggle) (2022.12.7)\n",
      "Requirement already satisfied: six>=1.10 in /opt/conda/lib/python3.10/site-packages (from kaggle) (1.16.0)\n",
      "Requirement already satisfied: webencodings in /opt/conda/lib/python3.10/site-packages (from kaggle) (0.5.1)\n",
      "Installing collected packages: text-unidecode, python-slugify, kaggle\n",
      "Successfully installed kaggle-1.7.4.5 python-slugify-8.0.4 text-unidecode-1.3\n"
     ]
    }
   ],
   "source": [
    "!pip install kaggle"
   ]
  },
  {
   "cell_type": "code",
   "execution_count": 2,
   "id": "bb5df81a-94b6-4156-97b4-78c4103d5720",
   "metadata": {},
   "outputs": [],
   "source": [
    "def LeituraAPI(path: str, source: str):\n",
    "    api.dataset_download_files(source,path=path,unzip=True)"
   ]
  },
  {
   "cell_type": "code",
   "execution_count": 3,
   "id": "a6c5e3cd-3b90-484f-897f-107e0bd0a01a",
   "metadata": {},
   "outputs": [
    {
     "name": "stdout",
     "output_type": "stream",
     "text": [
      "Warning: Your Kaggle API key is readable by other users on this system! To fix this, you can run 'chmod 600 /user/.kaggle/kaggle.json'\n",
      "Warning: Your Kaggle API key is readable by other users on this system! To fix this, you can run 'chmod 600 /user/.kaggle/kaggle.json'\n",
      "Dataset URL: https://www.kaggle.com/datasets/yashdevladdha/uber-ride-analytics-dashboard\n"
     ]
    }
   ],
   "source": [
    "import os\n",
    "from kaggle.api.kaggle_api_extended import KaggleApi\n",
    "\n",
    "os.environ['KAGGLE_CONFIG_DIR'] = '/home/user/.kaggle'\n",
    "\n",
    "api = KaggleApi()\n",
    "api.authenticate()\n",
    "# api.model_list_cli()\n",
    "\n",
    "path = '/home/user/datasets/uber-dataset'\n",
    "source = 'yashdevladdha/uber-ride-analytics-dashboard'\n",
    "\n",
    "LeituraAPI(path=path, source=source)"
   ]
  }
 ],
 "metadata": {
  "kernelspec": {
   "display_name": "Python 3 (ipykernel)",
   "language": "python",
   "name": "python3"
  },
  "language_info": {
   "codemirror_mode": {
    "name": "ipython",
    "version": 3
   },
   "file_extension": ".py",
   "mimetype": "text/x-python",
   "name": "python",
   "nbconvert_exporter": "python",
   "pygments_lexer": "ipython3",
   "version": "3.10.8"
  }
 },
 "nbformat": 4,
 "nbformat_minor": 5
}
