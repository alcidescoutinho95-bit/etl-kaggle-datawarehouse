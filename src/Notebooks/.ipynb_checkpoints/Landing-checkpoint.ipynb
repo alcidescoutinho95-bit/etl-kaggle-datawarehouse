{
 "cells": [
  {
   "cell_type": "markdown",
   "id": "22adab80-37be-4565-a1c9-5df475bf395b",
   "metadata": {},
   "source": [
    "# Kaggle"
   ]
  },
  {
   "cell_type": "code",
   "execution_count": 5,
   "id": "551ca31f-06bd-44bf-81cb-5840edd47c84",
   "metadata": {},
   "outputs": [],
   "source": [
    "# !pip install kaggle"
   ]
  },
  {
   "cell_type": "code",
   "execution_count": 6,
   "id": "f3198ed5-b813-4088-8593-56ee639a3fa5",
   "metadata": {},
   "outputs": [],
   "source": [
    "from spark_session import spark\n",
    "import os\n",
    "from kaggle.api.kaggle_api_extended import KaggleApi\n",
    "from datetime import datetime"
   ]
  },
  {
   "cell_type": "code",
   "execution_count": 7,
   "id": "bb5df81a-94b6-4156-97b4-78c4103d5720",
   "metadata": {},
   "outputs": [],
   "source": [
    "def LeituraAPI(folder_name: str, source: str):\n",
    "    os.environ['KAGGLE_CONFIG_DIR'] = '/home/user/.kaggle'\n",
    "    api = KaggleApi()\n",
    "    api.authenticate()\n",
    "\n",
    "    # Inserindo a data para poder manter o controle versinal dos dados brutos.\n",
    "    path = f'/home/user/datasets/{folder_name}/{datetime.now().month}_{datetime.now().year}'\n",
    "    \n",
    "    # Cria a pasta se não existir\n",
    "    os.makedirs(path, exist_ok=True)\n",
    "    \n",
    "    # Acesso a API inserindo os dados na path definida.\n",
    "    api.dataset_download_files(source,path=path,unzip=True)\n",
    "    \n",
    "    # Lista os arquivos salvos\n",
    "    arquivos = os.listdir(path)\n",
    "    print(f\"Arquivos salvos no diretório {path}:\")\n",
    "    for arq in arquivos:\n",
    "        print(f\" - {arq}\")\n",
    "\n",
    "    print(f\"\\nTotal de arquivos: {len(arquivos)}\")\n",
    "    # return arquivos\n"
   ]
  },
  {
   "cell_type": "code",
   "execution_count": 8,
   "id": "c24f032d-cd64-4906-94fc-d8321a21e210",
   "metadata": {},
   "outputs": [
    {
     "name": "stdout",
     "output_type": "stream",
     "text": [
      "Warning: Your Kaggle API key is readable by other users on this system! To fix this, you can run 'chmod 600 /user/.kaggle/kaggle.json'\n"
     ]
    },
    {
     "ename": "ValueError",
     "evalue": "Error: Missing username in configuration.",
     "output_type": "error",
     "traceback": [
      "\u001b[0;31m---------------------------------------------------------------------------\u001b[0m",
      "\u001b[0;31mValueError\u001b[0m                                Traceback (most recent call last)",
      "Cell \u001b[0;32mIn[8], line 4\u001b[0m\n\u001b[1;32m      1\u001b[0m folder_name \u001b[38;5;241m=\u001b[39m \u001b[38;5;124m'\u001b[39m\u001b[38;5;124muber_dataset\u001b[39m\u001b[38;5;124m'\u001b[39m\n\u001b[1;32m      2\u001b[0m source \u001b[38;5;241m=\u001b[39m \u001b[38;5;124m'\u001b[39m\u001b[38;5;124mfivethirtyeight/uber-pickups-in-new-york-city\u001b[39m\u001b[38;5;124m'\u001b[39m\n\u001b[0;32m----> 4\u001b[0m \u001b[43mLeituraAPI\u001b[49m\u001b[43m(\u001b[49m\u001b[43mfolder_name\u001b[49m\u001b[38;5;241;43m=\u001b[39;49m\u001b[43mfolder_name\u001b[49m\u001b[43m,\u001b[49m\u001b[43m \u001b[49m\u001b[43msource\u001b[49m\u001b[38;5;241;43m=\u001b[39;49m\u001b[43msource\u001b[49m\u001b[43m)\u001b[49m\n",
      "Cell \u001b[0;32mIn[7], line 4\u001b[0m, in \u001b[0;36mLeituraAPI\u001b[0;34m(folder_name, source)\u001b[0m\n\u001b[1;32m      1\u001b[0m \u001b[38;5;28;01mdef\u001b[39;00m \u001b[38;5;21mLeituraAPI\u001b[39m(folder_name: \u001b[38;5;28mstr\u001b[39m, source: \u001b[38;5;28mstr\u001b[39m):\n\u001b[1;32m      2\u001b[0m     \u001b[38;5;66;03m# os.environ['KAGGLE_CONFIG_DIR'] = '/home/user/.kaggle'\u001b[39;00m\n\u001b[1;32m      3\u001b[0m     api \u001b[38;5;241m=\u001b[39m KaggleApi()\n\u001b[0;32m----> 4\u001b[0m     \u001b[43mapi\u001b[49m\u001b[38;5;241;43m.\u001b[39;49m\u001b[43mauthenticate\u001b[49m\u001b[43m(\u001b[49m\u001b[43m)\u001b[49m\n\u001b[1;32m      6\u001b[0m     \u001b[38;5;66;03m# Inserindo a data para poder manter o controle versinal dos dados brutos.\u001b[39;00m\n\u001b[1;32m      7\u001b[0m     path \u001b[38;5;241m=\u001b[39m \u001b[38;5;124mf\u001b[39m\u001b[38;5;124m'\u001b[39m\u001b[38;5;124m/home/user/datasets/\u001b[39m\u001b[38;5;132;01m{\u001b[39;00mfolder_name\u001b[38;5;132;01m}\u001b[39;00m\u001b[38;5;124m/\u001b[39m\u001b[38;5;132;01m{\u001b[39;00mdatetime\u001b[38;5;241m.\u001b[39mnow()\u001b[38;5;241m.\u001b[39mmonth\u001b[38;5;132;01m}\u001b[39;00m\u001b[38;5;124m_\u001b[39m\u001b[38;5;132;01m{\u001b[39;00mdatetime\u001b[38;5;241m.\u001b[39mnow()\u001b[38;5;241m.\u001b[39myear\u001b[38;5;132;01m}\u001b[39;00m\u001b[38;5;124m'\u001b[39m\n",
      "File \u001b[0;32m/opt/conda/lib/python3.10/site-packages/kaggle/api/kaggle_api_extended.py:441\u001b[0m, in \u001b[0;36mKaggleApi.authenticate\u001b[0;34m(self)\u001b[0m\n\u001b[1;32m    434\u001b[0m     \u001b[38;5;28;01mraise\u001b[39;00m \u001b[38;5;167;01mIOError\u001b[39;00m(\u001b[38;5;124m'\u001b[39m\u001b[38;5;124mCould not find \u001b[39m\u001b[38;5;132;01m{}\u001b[39;00m\u001b[38;5;124m. Make sure it\u001b[39m\u001b[38;5;130;01m\\'\u001b[39;00m\u001b[38;5;124ms located in\u001b[39m\u001b[38;5;124m'\u001b[39m\n\u001b[1;32m    435\u001b[0m                   \u001b[38;5;124m'\u001b[39m\u001b[38;5;124m \u001b[39m\u001b[38;5;132;01m{}\u001b[39;00m\u001b[38;5;124m. Or use the environment method. See setup\u001b[39m\u001b[38;5;124m'\u001b[39m\n\u001b[1;32m    436\u001b[0m                   \u001b[38;5;124m'\u001b[39m\u001b[38;5;124m instructions at\u001b[39m\u001b[38;5;124m'\u001b[39m\n\u001b[1;32m    437\u001b[0m                   \u001b[38;5;124m'\u001b[39m\u001b[38;5;124m https://github.com/Kaggle/kaggle-api/\u001b[39m\u001b[38;5;124m'\u001b[39m\u001b[38;5;241m.\u001b[39mformat(\n\u001b[1;32m    438\u001b[0m                       \u001b[38;5;28mself\u001b[39m\u001b[38;5;241m.\u001b[39mconfig_file, \u001b[38;5;28mself\u001b[39m\u001b[38;5;241m.\u001b[39mconfig_dir))\n\u001b[1;32m    440\u001b[0m \u001b[38;5;66;03m# Step 3: load into configuration!\u001b[39;00m\n\u001b[0;32m--> 441\u001b[0m \u001b[38;5;28;43mself\u001b[39;49m\u001b[38;5;241;43m.\u001b[39;49m\u001b[43m_load_config\u001b[49m\u001b[43m(\u001b[49m\u001b[43mconfig_data\u001b[49m\u001b[43m)\u001b[49m\n",
      "File \u001b[0;32m/opt/conda/lib/python3.10/site-packages/kaggle/api/kaggle_api_extended.py:492\u001b[0m, in \u001b[0;36mKaggleApi._load_config\u001b[0;34m(self, config_data)\u001b[0m\n\u001b[1;32m    490\u001b[0m \u001b[38;5;28;01mfor\u001b[39;00m item \u001b[38;5;129;01min\u001b[39;00m [\u001b[38;5;28mself\u001b[39m\u001b[38;5;241m.\u001b[39mCONFIG_NAME_USER, \u001b[38;5;28mself\u001b[39m\u001b[38;5;241m.\u001b[39mCONFIG_NAME_KEY]:\n\u001b[1;32m    491\u001b[0m   \u001b[38;5;28;01mif\u001b[39;00m item \u001b[38;5;129;01mnot\u001b[39;00m \u001b[38;5;129;01min\u001b[39;00m config_data:\n\u001b[0;32m--> 492\u001b[0m     \u001b[38;5;28;01mraise\u001b[39;00m \u001b[38;5;167;01mValueError\u001b[39;00m(\u001b[38;5;124m'\u001b[39m\u001b[38;5;124mError: Missing \u001b[39m\u001b[38;5;132;01m%s\u001b[39;00m\u001b[38;5;124m in configuration.\u001b[39m\u001b[38;5;124m'\u001b[39m \u001b[38;5;241m%\u001b[39m item)\n\u001b[1;32m    494\u001b[0m configuration \u001b[38;5;241m=\u001b[39m Configuration()\n\u001b[1;32m    496\u001b[0m \u001b[38;5;66;03m# Add to the final configuration (required)\u001b[39;00m\n",
      "\u001b[0;31mValueError\u001b[0m: Error: Missing username in configuration."
     ]
    }
   ],
   "source": [
    "folder_name = 'uber_dataset'\n",
    "source = 'fivethirtyeight/uber-pickups-in-new-york-city'\n",
    "\n",
    "LeituraAPI(folder_name=folder_name, source=source)"
   ]
  }
 ],
 "metadata": {
  "kernelspec": {
   "display_name": "Python 3 (ipykernel)",
   "language": "python",
   "name": "python3"
  },
  "language_info": {
   "codemirror_mode": {
    "name": "ipython",
    "version": 3
   },
   "file_extension": ".py",
   "mimetype": "text/x-python",
   "name": "python",
   "nbconvert_exporter": "python",
   "pygments_lexer": "ipython3",
   "version": "3.10.8"
  }
 },
 "nbformat": 4,
 "nbformat_minor": 5
}
