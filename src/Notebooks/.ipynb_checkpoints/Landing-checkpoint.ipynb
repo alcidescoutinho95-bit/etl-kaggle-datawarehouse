{
 "cells": [
  {
   "cell_type": "markdown",
   "id": "22adab80-37be-4565-a1c9-5df475bf395b",
   "metadata": {},
   "source": [
    "# Kaggle"
   ]
  },
  {
   "cell_type": "code",
   "execution_count": 3,
   "id": "551ca31f-06bd-44bf-81cb-5840edd47c84",
   "metadata": {},
   "outputs": [
    {
     "name": "stdout",
     "output_type": "stream",
     "text": [
      "Collecting kaggle\n",
      "  Downloading kaggle-1.7.4.5-py3-none-any.whl (181 kB)\n",
      "\u001b[2K     \u001b[90m━━━━━━━━━━━━━━━━━━━━━━━━━━━━━━━━━━━━━\u001b[0m \u001b[32m181.2/181.2 kB\u001b[0m \u001b[31m848.8 kB/s\u001b[0m eta \u001b[36m0:00:00\u001b[0ma \u001b[36m0:00:01\u001b[0m\n",
      "\u001b[?25hCollecting text-unidecode\n",
      "  Downloading text_unidecode-1.3-py2.py3-none-any.whl (78 kB)\n",
      "\u001b[2K     \u001b[90m━━━━━━━━━━━━━━━━━━━━━━━━━━━━━━━━━━━━━━━━\u001b[0m \u001b[32m78.2/78.2 kB\u001b[0m \u001b[31m2.6 MB/s\u001b[0m eta \u001b[36m0:00:00\u001b[0m\n",
      "\u001b[?25hRequirement already satisfied: requests in /opt/conda/lib/python3.10/site-packages (from kaggle) (2.28.1)\n",
      "Requirement already satisfied: tqdm in /opt/conda/lib/python3.10/site-packages (from kaggle) (4.64.1)\n",
      "Requirement already satisfied: protobuf in /opt/conda/lib/python3.10/site-packages (from kaggle) (4.21.12)\n",
      "Requirement already satisfied: certifi>=14.05.14 in /opt/conda/lib/python3.10/site-packages (from kaggle) (2022.12.7)\n",
      "Requirement already satisfied: webencodings in /opt/conda/lib/python3.10/site-packages (from kaggle) (0.5.1)\n",
      "Requirement already satisfied: setuptools>=21.0.0 in /opt/conda/lib/python3.10/site-packages (from kaggle) (65.6.3)\n",
      "Requirement already satisfied: bleach in /opt/conda/lib/python3.10/site-packages (from kaggle) (5.0.1)\n",
      "Collecting python-slugify\n",
      "  Downloading python_slugify-8.0.4-py2.py3-none-any.whl (10 kB)\n",
      "Requirement already satisfied: python-dateutil>=2.5.3 in /opt/conda/lib/python3.10/site-packages (from kaggle) (2.8.2)\n",
      "Requirement already satisfied: urllib3>=1.15.1 in /opt/conda/lib/python3.10/site-packages (from kaggle) (1.26.13)\n",
      "Requirement already satisfied: six>=1.10 in /opt/conda/lib/python3.10/site-packages (from kaggle) (1.16.0)\n",
      "Requirement already satisfied: charset-normalizer in /opt/conda/lib/python3.10/site-packages (from kaggle) (2.1.1)\n",
      "Requirement already satisfied: idna in /opt/conda/lib/python3.10/site-packages (from kaggle) (3.4)\n",
      "Installing collected packages: text-unidecode, python-slugify, kaggle\n",
      "Successfully installed kaggle-1.7.4.5 python-slugify-8.0.4 text-unidecode-1.3\n"
     ]
    }
   ],
   "source": [
    "!pip install kaggle"
   ]
  },
  {
   "cell_type": "code",
   "execution_count": 19,
   "id": "f3198ed5-b813-4088-8593-56ee639a3fa5",
   "metadata": {},
   "outputs": [],
   "source": [
    "import os\n",
    "from kaggle.api.kaggle_api_extended import KaggleApi\n",
    "from datetime import datetime"
   ]
  },
  {
   "cell_type": "code",
   "execution_count": 20,
   "id": "bb5df81a-94b6-4156-97b4-78c4103d5720",
   "metadata": {},
   "outputs": [],
   "source": [
    "def LeituraAPI(folder_name: str, source: str):\n",
    "    # os.environ['KAGGLE_CONFIG_DIR'] = '/home/user/.kaggle'\n",
    "    api = KaggleApi()\n",
    "    api.authenticate()\n",
    "\n",
    "    # Inserindo a data para poder manter o controle versinal dos dados brutos.\n",
    "    path = f'/home/user/datasets/{folder_name}/{datetime.now().month}_{datetime.now().year}'\n",
    "    \n",
    "    # Cria a pasta se não existir\n",
    "    os.makedirs(path, exist_ok=True)\n",
    "    \n",
    "    # Acesso a API inserindo os dados na path definida.\n",
    "    api.dataset_download_files(source,path=path,unzip=True)\n",
    "    \n",
    "    # Lista os arquivos salvos\n",
    "    arquivos = os.listdir(path)\n",
    "    print(f\"Arquivos salvos no diretório {path}:\")\n",
    "    for arq in arquivos:\n",
    "        print(f\" - {arq}\")\n",
    "\n",
    "    print(f\"\\nTotal de arquivos: {len(arquivos)}\")\n",
    "    # return arquivos\n"
   ]
  },
  {
   "cell_type": "code",
   "execution_count": 21,
   "id": "c24f032d-cd64-4906-94fc-d8321a21e210",
   "metadata": {},
   "outputs": [
    {
     "name": "stdout",
     "output_type": "stream",
     "text": [
      "Warning: Your Kaggle API key is readable by other users on this system! To fix this, you can run 'chmod 600 /user/.kaggle/kaggle.json'\n",
      "Dataset URL: https://www.kaggle.com/datasets/fivethirtyeight/uber-pickups-in-new-york-city\n",
      "Arquivos salvos no diretório /home/user/datasets/uber_dataset/8_2025:\n",
      " - other-American_B01362.csv\n",
      " - other-Carmel_B00256.csv\n",
      " - other-Dial7_B00887.csv\n",
      " - other-Diplo_B01196.csv\n",
      " - other-Federal_02216.csv\n",
      " - other-FHV-services_jan-aug-2015.csv\n",
      " - other-Firstclass_B01536.csv\n",
      " - other-Highclass_B01717.csv\n",
      " - other-Lyft_B02510.csv\n",
      " - other-Prestige_B01338.csv\n",
      " - other-Skyline_B00111.csv\n",
      " - Uber-Jan-Feb-FOIL.csv\n",
      " - uber-raw-data-apr14.csv\n",
      " - uber-raw-data-aug14.csv\n",
      " - uber-raw-data-janjune-15.csv\n",
      " - uber-raw-data-jul14.csv\n",
      " - uber-raw-data-jun14.csv\n",
      " - uber-raw-data-may14.csv\n",
      " - uber-raw-data-sep14.csv\n",
      "\n",
      "Total de arquivos: 19\n"
     ]
    },
    {
     "data": {
      "text/plain": [
       "['other-American_B01362.csv',\n",
       " 'other-Carmel_B00256.csv',\n",
       " 'other-Dial7_B00887.csv',\n",
       " 'other-Diplo_B01196.csv',\n",
       " 'other-Federal_02216.csv',\n",
       " 'other-FHV-services_jan-aug-2015.csv',\n",
       " 'other-Firstclass_B01536.csv',\n",
       " 'other-Highclass_B01717.csv',\n",
       " 'other-Lyft_B02510.csv',\n",
       " 'other-Prestige_B01338.csv',\n",
       " 'other-Skyline_B00111.csv',\n",
       " 'Uber-Jan-Feb-FOIL.csv',\n",
       " 'uber-raw-data-apr14.csv',\n",
       " 'uber-raw-data-aug14.csv',\n",
       " 'uber-raw-data-janjune-15.csv',\n",
       " 'uber-raw-data-jul14.csv',\n",
       " 'uber-raw-data-jun14.csv',\n",
       " 'uber-raw-data-may14.csv',\n",
       " 'uber-raw-data-sep14.csv']"
      ]
     },
     "execution_count": 21,
     "metadata": {},
     "output_type": "execute_result"
    }
   ],
   "source": [
    "folder_name = 'uber_dataset'\n",
    "source = 'fivethirtyeight/uber-pickups-in-new-york-city'\n",
    "\n",
    "LeituraAPI(folder_name=folder_name, source=source)"
   ]
  }
 ],
 "metadata": {
  "kernelspec": {
   "display_name": "Python 3 (ipykernel)",
   "language": "python",
   "name": "python3"
  },
  "language_info": {
   "codemirror_mode": {
    "name": "ipython",
    "version": 3
   },
   "file_extension": ".py",
   "mimetype": "text/x-python",
   "name": "python",
   "nbconvert_exporter": "python",
   "pygments_lexer": "ipython3",
   "version": "3.10.8"
  }
 },
 "nbformat": 4,
 "nbformat_minor": 5
}
