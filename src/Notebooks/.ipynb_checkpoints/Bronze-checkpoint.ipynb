{
 "cells": [
  {
   "cell_type": "markdown",
   "id": "ca5b82d3-0832-4920-96e7-94de42385278",
   "metadata": {},
   "source": [
    "# Import libraries and create spark session"
   ]
  },
  {
   "cell_type": "code",
   "execution_count": 6,
   "id": "b41348cd-b062-446d-8c0a-b4bb117eaf29",
   "metadata": {},
   "outputs": [],
   "source": [
    "## Importar a sessão spark criada no spark_session.py\n",
    "from spark_session import spark\n",
    "import os\n",
    "from datetime import datetime"
   ]
  },
  {
   "cell_type": "code",
   "execution_count": 43,
   "id": "a043f0ca-44a0-42bf-8bd6-c438c6548db5",
   "metadata": {},
   "outputs": [],
   "source": [
    "def DataFrameGenerator(folder_name: str):\n",
    "    path = f'/home/user/datasets/{folder_name}/{datetime.now().month}_{datetime.now().year}'\n",
    "    files = os.listdir(path)\n",
    "    files_return = [file for file in files if file.endswith('14.csv')]\n",
    "    print(f\"Um total de {len(files_return)} arquivos foram encontrados.\")\n",
    "    \n",
    "    # Save delta section \n",
    "    bucket = 'bronze'\n",
    "    project_name = 'delta_uber'\n",
    "    delta_save_path = f\"s3a://{bucket}/{project_name}/{datetime.now().month}_{datetime.now().year}\"\n",
    "    for csv_file in files_return:\n",
    "        path_csv = f\"{path}/{csv_file}\"\n",
    "        folder_nome_for_csv = csv_file.split('-')[-1].replace('14.csv','')\n",
    "        delta_save_path = f\"s3a://{bucket}/{project_name}/{datetime.now().month}_{datetime.now().year}/{folder_nome_for_csv}\"\n",
    "        \n",
    "        spark.read.csv(path_csv,header=True,inferSchema=True)\\\n",
    "        .write.format(\"delta\").mode(\"append\").save(delta_save_path)\n",
    "        print(f\"------------ delta for {csv_file} loaded --------------\")\n"
   ]
  },
  {
   "cell_type": "code",
   "execution_count": 44,
   "id": "684a672e-6fcd-4713-a6e4-0c728bd5dab9",
   "metadata": {},
   "outputs": [
    {
     "name": "stdout",
     "output_type": "stream",
     "text": [
      "Um total de 6 arquivos foram encontrados.\n",
      "------------ delta for uber-raw-data-apr14.csv loaded --------------\n",
      "------------ delta for uber-raw-data-aug14.csv loaded --------------\n",
      "------------ delta for uber-raw-data-jul14.csv loaded --------------\n",
      "------------ delta for uber-raw-data-jun14.csv loaded --------------\n",
      "------------ delta for uber-raw-data-may14.csv loaded --------------\n",
      "------------ delta for uber-raw-data-sep14.csv loaded --------------\n"
     ]
    }
   ],
   "source": [
    "folder_name = 'uber_dataset'\n",
    "DataFrameGenerator(folder_name)"
   ]
  }
 ],
 "metadata": {
  "kernelspec": {
   "display_name": "Python 3 (ipykernel)",
   "language": "python",
   "name": "python3"
  },
  "language_info": {
   "codemirror_mode": {
    "name": "ipython",
    "version": 3
   },
   "file_extension": ".py",
   "mimetype": "text/x-python",
   "name": "python",
   "nbconvert_exporter": "python",
   "pygments_lexer": "ipython3",
   "version": "3.10.8"
  }
 },
 "nbformat": 4,
 "nbformat_minor": 5
}
