{
 "cells": [
  {
   "cell_type": "code",
   "execution_count": 1,
   "id": "e761aef7-90d2-4119-b32a-8c6027fec813",
   "metadata": {},
   "outputs": [],
   "source": [
    "from pyspark import SparkConf\n",
    "from pyspark.sql import SparkSession\n",
    "import pyspark.sql.functions as f\n",
    "import requests\n",
    "import pandas as pd\n",
    "import os\n",
    "# --------------------------\n",
    "# Configuração Spark\n",
    "# --------------------------\n",
    "conf = SparkConf()\n",
    "\n",
    "conf.setAppName(\"Sample write Delta table\")\n",
    "\n",
    "# Conexão com o MinIO (S3 compatível)\n",
    "conf.set(\"spark.hadoop.fs.s3a.endpoint\", \"http://minio:9000\")\n",
    "conf.set(\"spark.hadoop.fs.s3a.access.key\", \"admin\")\n",
    "conf.set(\"spark.hadoop.fs.s3a.secret.key\", \"nova_senha\")\n",
    "conf.set(\"spark.hadoop.fs.s3a.path.style.access\", True)\n",
    "conf.set(\"spark.hadoop.fs.s3a.impl\", \"org.apache.hadoop.fs.s3a.S3AFileSystem\")\n",
    "conf.set(\"spark.hadoop.fs.s3a.aws.credentials.provider\", \"org.apache.hadoop.fs.s3a.SimpleAWSCredentialsProvider\")\n",
    "\n",
    "# Delta Lake\n",
    "conf.set(\"spark.sql.extensions\", \"io.delta.sql.DeltaSparkSessionExtension\")\n",
    "conf.set(\"spark.sql.catalog.spark_catalog\", \"org.apache.spark.sql.delta.catalog.DeltaCatalog\")\n",
    "\n",
    "# Hive Metastore (se você tiver o serviço metastore no seu docker-compose)\n",
    "conf.set(\"hive.metastore.uris\", \"thrift://metastore:9083\")\n",
    "\n",
    "# Define o FS padrão como local (evita conflitos)\n",
    "conf.set(\"spark.hadoop.fs.defaultFS\", \"file:///\")\n",
    "\n",
    "# --------------------------\n",
    "# Cria a SparkSession\n",
    "# --------------------------\n",
    "spark = (\n",
    "    SparkSession.builder\n",
    "    .config(conf=conf)\n",
    "    .master(\"spark://spark-master:7077\")   # descomente se quiser usar o cluster\n",
    "    .enableHiveSupport()\n",
    "    .getOrCreate()\n",
    ")"
   ]
  },
  {
   "cell_type": "code",
   "execution_count": 4,
   "id": "2fda17ad-7ddb-48e8-b7d8-68804dbb5b06",
   "metadata": {},
   "outputs": [],
   "source": [
    "country = 'BR'\n",
    "code =  \"NY.GDP.MKTP.CD\""
   ]
  },
  {
   "cell_type": "code",
   "execution_count": 6,
   "id": "92a78919-f16a-4a5b-bb2b-e1e2036df6a3",
   "metadata": {},
   "outputs": [],
   "source": [
    "url = f\"http://api.worldbank.org/v2/country/{country}/indicator/{code}?format=json&per_page=500\"\n",
    "r = requests.get(url).json()"
   ]
  },
  {
   "cell_type": "code",
   "execution_count": null,
   "id": "39dc50e7-7287-44cd-b74c-a3e527845d52",
   "metadata": {},
   "outputs": [],
   "source": []
  },
  {
   "cell_type": "code",
   "execution_count": 12,
   "id": "6c2a389c-1962-4654-a6c9-dbf372a144c2",
   "metadata": {},
   "outputs": [],
   "source": [
    "year=2024\n",
    "month = 10\n",
    "\n",
    "url  = f\"https://api.nytimes.com/svc/archive/v1/{year}/{month}.json\""
   ]
  },
  {
   "cell_type": "code",
   "execution_count": 13,
   "id": "f3485d9c-2f04-4ec2-92f1-e20891873c66",
   "metadata": {},
   "outputs": [
    {
     "data": {
      "text/plain": [
       "<Response [401]>"
      ]
     },
     "execution_count": 13,
     "metadata": {},
     "output_type": "execute_result"
    }
   ],
   "source": [
    "requests.get(url)"
   ]
  },
  {
   "cell_type": "code",
   "execution_count": 15,
   "id": "4f3b26ad-73d2-4a68-a188-cf9eeb022db0",
   "metadata": {},
   "outputs": [],
   "source": [
    "url = \"https://brasil.io/api/v1/dataset/gastos-deputados/cota_parlamentar/data/\""
   ]
  },
  {
   "cell_type": "code",
   "execution_count": null,
   "id": "2724bda2-770e-49d5-9ec0-64897d36db32",
   "metadata": {},
   "outputs": [],
   "source": [
    "TOKEN = '24f7d4a1052353cc70c12d274b14fb826ad63846'\n",
    "url = \"https://brasil.io/api/v1/dataset/gastos-deputados/cota_parlamentar/data/\"\n",
    "headers = {\"Authorization\": f\"Token {TOKEN}\"}\n",
    "\n",
    "response = requests.get(url, headers=headers)\n",
    "\n",
    "print(response.status_code)\n",
    "print(response.json())"
   ]
  },
  {
   "cell_type": "code",
   "execution_count": null,
   "id": "cb9c5cd0-9319-4a77-94ae-928009b3e850",
   "metadata": {},
   "outputs": [],
   "source": []
  },
  {
   "cell_type": "code",
   "execution_count": 23,
   "id": "0c54caae-b31f-473d-8f67-494837cd936c",
   "metadata": {},
   "outputs": [
    {
     "ename": "NameError",
     "evalue": "name 'os' is not defined",
     "output_type": "error",
     "traceback": [
      "\u001b[0;31m---------------------------------------------------------------------------\u001b[0m",
      "\u001b[0;31mNameError\u001b[0m                                 Traceback (most recent call last)",
      "Cell \u001b[0;32mIn[23], line 1\u001b[0m\n\u001b[0;32m----> 1\u001b[0m TOKEN \u001b[38;5;241m=\u001b[39m \u001b[43mos\u001b[49m\u001b[38;5;241m.\u001b[39mgetenv(\u001b[38;5;124m\"\u001b[39m\u001b[38;5;124mBRASIL_IO_TOKEN\u001b[39m\u001b[38;5;124m\"\u001b[39m)\n",
      "\u001b[0;31mNameError\u001b[0m: name 'os' is not defined"
     ]
    }
   ],
   "source": [
    "TOKEN = os.getenv(\"BRASIL_IO_TOKEN\")"
   ]
  },
  {
   "cell_type": "code",
   "execution_count": null,
   "id": "fec8d86e-a503-4aff-b135-2a95b78ae877",
   "metadata": {},
   "outputs": [],
   "source": []
  },
  {
   "cell_type": "code",
   "execution_count": null,
   "id": "551ca31f-06bd-44bf-81cb-5840edd47c84",
   "metadata": {},
   "outputs": [],
   "source": []
  },
  {
   "cell_type": "code",
   "execution_count": null,
   "id": "67be6678-fbb1-4d55-8575-24fe8163747e",
   "metadata": {},
   "outputs": [],
   "source": []
  },
  {
   "cell_type": "code",
   "execution_count": null,
   "id": "f3a42441-d3e0-4e3e-bfa2-f03ae007298a",
   "metadata": {},
   "outputs": [],
   "source": []
  },
  {
   "cell_type": "code",
   "execution_count": null,
   "id": "a6c5e3cd-3b90-484f-897f-107e0bd0a01a",
   "metadata": {},
   "outputs": [],
   "source": []
  }
 ],
 "metadata": {
  "kernelspec": {
   "display_name": "Python 3 (ipykernel)",
   "language": "python",
   "name": "python3"
  },
  "language_info": {
   "codemirror_mode": {
    "name": "ipython",
    "version": 3
   },
   "file_extension": ".py",
   "mimetype": "text/x-python",
   "name": "python",
   "nbconvert_exporter": "python",
   "pygments_lexer": "ipython3",
   "version": "3.10.8"
  }
 },
 "nbformat": 4,
 "nbformat_minor": 5
}
